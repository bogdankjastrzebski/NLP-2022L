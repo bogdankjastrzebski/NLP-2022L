{
 "cells": [
  {
   "cell_type": "code",
   "execution_count": 1,
   "metadata": {},
   "outputs": [
    {
     "data": {
      "text/html": [
       "<style>.container { width:80% !important; }\n"
      ],
      "text/plain": [
       "<IPython.core.display.HTML object>"
      ]
     },
     "metadata": {},
     "output_type": "display_data"
    }
   ],
   "source": [
    "%%html\n",
    "<style>.container { width:80% !important; }"
   ]
  },
  {
   "cell_type": "markdown",
   "metadata": {},
   "source": [
    "## <span style='font-family:Georgia'> Objectives\n",
    "The purpose of this notebook is text mining, aimed at creating a baseline rule-model, which is to be a benchmark of the neural model developed in the later phase of the project.\n",
    "    \n",
    "*Author: Elżbieta Jowik, Agata Makarewicz*"
   ]
  },
  {
   "cell_type": "code",
   "execution_count": 2,
   "metadata": {},
   "outputs": [],
   "source": [
    "import os\n",
    "import re\n",
    "import morfeusz2\n",
    "import seaborn as sns\n",
    "import numpy as np\n",
    "import pandas as pd\n",
    "from tqdm import tqdm\n",
    "from IPython.display import display, Markdown\n",
    "import matplotlib.pyplot as plt\n",
    "\n",
    "sns.set(rc={'figure.figsize':(14,8.27), 'axes.facecolor':'white', 'axes.grid' : True, \"grid.color\": \".9\"})"
   ]
  },
  {
   "cell_type": "code",
   "execution_count": 3,
   "metadata": {},
   "outputs": [],
   "source": [
    "def read_files(dir_path: str, sep: str = \",\") -> pd.DataFrame:\n",
    "    \"\"\"\n",
    "    Read the files with timestamps from a given catalog.\n",
    "\n",
    "    Args:\n",
    "        dir_path (str): Path to the catalog with the files\n",
    "        sep (str, optional): Separator used in pd.read_csv() function. Defaults to \",\".\n",
    "\n",
    "    Returns:\n",
    "        pd.DataFrame: Data from all the files concatenated into one dataframe.\n",
    "    \"\"\"\n",
    "    files = os.listdir(dir_path)\n",
    "    data = pd.DataFrame([], columns = ['index', 'timestamp_start', 'timestamp_stop', 'word'])\n",
    "    for file in tqdm(files):\n",
    "        f = open(os.path.join(dir_path, file), encoding='utf-8', mode='r')\n",
    "        name = file.split(\".\")[0]\n",
    "        df = pd.read_csv(f, header=None, sep=sep, encoding='utf-8')\n",
    "        df['index'] = name\n",
    "        if sep != \",\":\n",
    "            df['timestamp_start'] = df.iloc[:,0].str.split(\",\").str[0].str[1:]\n",
    "            df['timestamp_stop'] = df.iloc[:,0].str.split(\",\").str[1].str.split(\"\\)\").str[0]\n",
    "            df['word'] = df.iloc[:,0].str.split(\"\\)+\\s\").str[1]\n",
    "            df.drop([0], axis=1, inplace=True)\n",
    "            df.drop(df.tail(1).index, inplace=True)\n",
    "        else:\n",
    "            df['timestamp_start'] = df.iloc[:,0].str[1:]\n",
    "            df['timestamp_stop'] = df.iloc[:,1].str.split(\"\\)+\\s\").str[0]\n",
    "            df['word'] = df.iloc[:,1].str.split(\"\\)+\\s\").str[1]\n",
    "\n",
    "            df.drop([0,1], axis=1, inplace=True)\n",
    "            df.drop(df.tail(1).index, inplace=True)\n",
    "        data = pd.concat([data, df])\n",
    "        f.close()\n",
    "    return data"
   ]
  },
  {
   "cell_type": "code",
   "execution_count": 4,
   "metadata": {},
   "outputs": [],
   "source": [
    "def calculate_pauses(data: pd.DataFrame) -> pd.DataFrame:\n",
    "    \"\"\"\n",
    "    Generate new features describing pauses between two timestamps.\n",
    "\n",
    "    Args:\n",
    "        data (pd.DataFrame): Dataframe with preprocessed timestamp data separated into 'timestamp_start' and 'timestamp_stop' columns.\n",
    "\n",
    "    Returns:\n",
    "        pd.DataFrame: Input dataframe with two new features added, describing the pause between the word and after it.\n",
    "    \"\"\"\n",
    "    data.timestamp_start = data.timestamp_start.astype(int)\n",
    "    data.timestamp_stop = data.timestamp_stop.astype(int)\n",
    "    data_shifted = pd.concat([data, data.timestamp_start.shift(-1), data.timestamp_stop.shift()], axis=1)\n",
    "    data_shifted.columns = ['index', 'timestamp_start', 'timestamp_stop', 'word', 'timestamp_start_lead', 'timestamp_stop_lag']\n",
    "    data_shifted['pause_before'] = data_shifted.timestamp_start - data_shifted.timestamp_stop_lag\n",
    "    data_shifted['pause_after'] = data_shifted.timestamp_start_lead - data_shifted.timestamp_stop\n",
    "    data_shifted.drop(['timestamp_start_lead', 'timestamp_stop_lag'], axis=1, inplace=True)\n",
    "    # to discuss\n",
    "    data_shifted.pause_before.fillna(data_shifted.timestamp_start, inplace=True)\n",
    "    data_shifted.pause_after.fillna(0, inplace=True)\n",
    "    data_shifted.reset_index(drop=True, inplace=True)\n",
    "    for i, row in data_shifted.iterrows():\n",
    "        if (i>0) and (data_shifted.loc[i, 'index'] != data_shifted.loc[i-1, 'index']):\n",
    "            data_shifted.loc[i, 'pause_before'] = data_shifted.loc[i, 'timestamp_start']\n",
    "            data_shifted.loc[i-1, 'pause_after'] = 0\n",
    "            \n",
    "    return data_shifted"
   ]
  },
  {
   "cell_type": "code",
   "execution_count": 5,
   "metadata": {},
   "outputs": [],
   "source": [
    "def regex_filter(val, regex):\n",
    "    if val:\n",
    "        mo = re.search(regex,val)\n",
    "        if mo:\n",
    "            return True\n",
    "        else:\n",
    "            return False\n",
    "    else:\n",
    "        return False"
   ]
  },
  {
   "cell_type": "code",
   "execution_count": 6,
   "metadata": {},
   "outputs": [],
   "source": [
    "def find_nonalpha(text):\n",
    "    result = re.findall(\"[^AaĄąBbCcĆćDdEeĘęFfGgHhIiJjKkLlŁłMmNnŃńOoÓóPpRrSsŚśTtUuVvWwYyZzŹźŻżQqXx]\",text)\n",
    "    return result"
   ]
  },
  {
   "cell_type": "code",
   "execution_count": 7,
   "metadata": {},
   "outputs": [],
   "source": [
    "def flatten(x):\n",
    "    result = []\n",
    "    for el in x:\n",
    "        if hasattr(el, \"__iter__\") and not isinstance(el, str):\n",
    "            result.extend(flatten(el))\n",
    "        else:\n",
    "            result.append(el)\n",
    "    return result"
   ]
  },
  {
   "cell_type": "markdown",
   "metadata": {},
   "source": [
    "## <span style='font-family:Georgia'> Data preparation & pauses calculation"
   ]
  },
  {
   "cell_type": "code",
   "execution_count": 8,
   "metadata": {},
   "outputs": [
    {
     "name": "stderr",
     "output_type": "stream",
     "text": [
      "100%|██████████| 793/793 [00:43<00:00, 18.29it/s]\n"
     ]
    },
    {
     "data": {
      "text/markdown": [
       "## Raw data preview"
      ],
      "text/plain": [
       "<IPython.core.display.Markdown object>"
      ]
     },
     "metadata": {},
     "output_type": "display_data"
    },
    {
     "data": {
      "text/html": [
       "<div>\n",
       "<style scoped>\n",
       "    .dataframe tbody tr th:only-of-type {\n",
       "        vertical-align: middle;\n",
       "    }\n",
       "\n",
       "    .dataframe tbody tr th {\n",
       "        vertical-align: top;\n",
       "    }\n",
       "\n",
       "    .dataframe thead th {\n",
       "        text-align: right;\n",
       "    }\n",
       "</style>\n",
       "<table border=\"1\" class=\"dataframe\">\n",
       "  <thead>\n",
       "    <tr style=\"text-align: right;\">\n",
       "      <th></th>\n",
       "      <th>index</th>\n",
       "      <th>timestamp_start</th>\n",
       "      <th>timestamp_stop</th>\n",
       "      <th>word</th>\n",
       "    </tr>\n",
       "  </thead>\n",
       "  <tbody>\n",
       "    <tr>\n",
       "      <th>0</th>\n",
       "      <td>wikinews178430</td>\n",
       "      <td>690</td>\n",
       "      <td>750</td>\n",
       "      <td>we</td>\n",
       "    </tr>\n",
       "    <tr>\n",
       "      <th>1</th>\n",
       "      <td>wikinews178430</td>\n",
       "      <td>840</td>\n",
       "      <td>1350</td>\n",
       "      <td>wrocławiu</td>\n",
       "    </tr>\n",
       "    <tr>\n",
       "      <th>2</th>\n",
       "      <td>wikinews178430</td>\n",
       "      <td>1650</td>\n",
       "      <td>1920</td>\n",
       "      <td>walkę</td>\n",
       "    </tr>\n",
       "    <tr>\n",
       "      <th>3</th>\n",
       "      <td>wikinews178430</td>\n",
       "      <td>2130</td>\n",
       "      <td>2250</td>\n",
       "      <td>ze</td>\n",
       "    </tr>\n",
       "    <tr>\n",
       "      <th>4</th>\n",
       "      <td>wikinews178430</td>\n",
       "      <td>2310</td>\n",
       "      <td>2790</td>\n",
       "      <td>szkodnikiem</td>\n",
       "    </tr>\n",
       "    <tr>\n",
       "      <th>...</th>\n",
       "      <td>...</td>\n",
       "      <td>...</td>\n",
       "      <td>...</td>\n",
       "      <td>...</td>\n",
       "    </tr>\n",
       "    <tr>\n",
       "      <th>158</th>\n",
       "      <td>wikitalks109264</td>\n",
       "      <td>68760</td>\n",
       "      <td>69270</td>\n",
       "      <td>operacji</td>\n",
       "    </tr>\n",
       "    <tr>\n",
       "      <th>159</th>\n",
       "      <td>wikitalks109264</td>\n",
       "      <td>69390</td>\n",
       "      <td>69690</td>\n",
       "      <td>łódzkiej</td>\n",
       "    </tr>\n",
       "    <tr>\n",
       "      <th>160</th>\n",
       "      <td>wikitalks109264</td>\n",
       "      <td>70320</td>\n",
       "      <td>70320</td>\n",
       "      <td>w</td>\n",
       "    </tr>\n",
       "    <tr>\n",
       "      <th>161</th>\n",
       "      <td>wikitalks109264</td>\n",
       "      <td>70380</td>\n",
       "      <td>70530</td>\n",
       "      <td>roku</td>\n",
       "    </tr>\n",
       "    <tr>\n",
       "      <th>162</th>\n",
       "      <td>wikitalks109264</td>\n",
       "      <td>70620</td>\n",
       "      <td>71430</td>\n",
       "      <td>poprzedzającym.</td>\n",
       "    </tr>\n",
       "  </tbody>\n",
       "</table>\n",
       "<p>167985 rows × 4 columns</p>\n",
       "</div>"
      ],
      "text/plain": [
       "               index  timestamp_start  timestamp_stop             word\n",
       "0     wikinews178430              690             750               we\n",
       "1     wikinews178430              840            1350        wrocławiu\n",
       "2     wikinews178430             1650            1920            walkę\n",
       "3     wikinews178430             2130            2250               ze\n",
       "4     wikinews178430             2310            2790      szkodnikiem\n",
       "..               ...              ...             ...              ...\n",
       "158  wikitalks109264            68760           69270         operacji\n",
       "159  wikitalks109264            69390           69690         łódzkiej\n",
       "160  wikitalks109264            70320           70320                w\n",
       "161  wikitalks109264            70380           70530             roku\n",
       "162  wikitalks109264            70620           71430  poprzedzającym.\n",
       "\n",
       "[167985 rows x 4 columns]"
      ]
     },
     "metadata": {},
     "output_type": "display_data"
    },
    {
     "data": {
      "text/markdown": [
       "## Calculated data preview"
      ],
      "text/plain": [
       "<IPython.core.display.Markdown object>"
      ]
     },
     "metadata": {},
     "output_type": "display_data"
    },
    {
     "data": {
      "text/html": [
       "<div>\n",
       "<style scoped>\n",
       "    .dataframe tbody tr th:only-of-type {\n",
       "        vertical-align: middle;\n",
       "    }\n",
       "\n",
       "    .dataframe tbody tr th {\n",
       "        vertical-align: top;\n",
       "    }\n",
       "\n",
       "    .dataframe thead th {\n",
       "        text-align: right;\n",
       "    }\n",
       "</style>\n",
       "<table border=\"1\" class=\"dataframe\">\n",
       "  <thead>\n",
       "    <tr style=\"text-align: right;\">\n",
       "      <th></th>\n",
       "      <th>index</th>\n",
       "      <th>word</th>\n",
       "      <th>pause_before</th>\n",
       "      <th>pause_after</th>\n",
       "    </tr>\n",
       "  </thead>\n",
       "  <tbody>\n",
       "    <tr>\n",
       "      <th>0</th>\n",
       "      <td>wikinews178430</td>\n",
       "      <td>we</td>\n",
       "      <td>690.0</td>\n",
       "      <td>90.0</td>\n",
       "    </tr>\n",
       "    <tr>\n",
       "      <th>1</th>\n",
       "      <td>wikinews178430</td>\n",
       "      <td>wrocławiu</td>\n",
       "      <td>90.0</td>\n",
       "      <td>300.0</td>\n",
       "    </tr>\n",
       "    <tr>\n",
       "      <th>2</th>\n",
       "      <td>wikinews178430</td>\n",
       "      <td>walkę</td>\n",
       "      <td>300.0</td>\n",
       "      <td>210.0</td>\n",
       "    </tr>\n",
       "    <tr>\n",
       "      <th>3</th>\n",
       "      <td>wikinews178430</td>\n",
       "      <td>ze</td>\n",
       "      <td>210.0</td>\n",
       "      <td>60.0</td>\n",
       "    </tr>\n",
       "    <tr>\n",
       "      <th>4</th>\n",
       "      <td>wikinews178430</td>\n",
       "      <td>szkodnikiem</td>\n",
       "      <td>60.0</td>\n",
       "      <td>90.0</td>\n",
       "    </tr>\n",
       "    <tr>\n",
       "      <th>...</th>\n",
       "      <td>...</td>\n",
       "      <td>...</td>\n",
       "      <td>...</td>\n",
       "      <td>...</td>\n",
       "    </tr>\n",
       "    <tr>\n",
       "      <th>167980</th>\n",
       "      <td>wikitalks109264</td>\n",
       "      <td>operacji</td>\n",
       "      <td>120.0</td>\n",
       "      <td>120.0</td>\n",
       "    </tr>\n",
       "    <tr>\n",
       "      <th>167981</th>\n",
       "      <td>wikitalks109264</td>\n",
       "      <td>łódzkiej</td>\n",
       "      <td>120.0</td>\n",
       "      <td>630.0</td>\n",
       "    </tr>\n",
       "    <tr>\n",
       "      <th>167982</th>\n",
       "      <td>wikitalks109264</td>\n",
       "      <td>w</td>\n",
       "      <td>630.0</td>\n",
       "      <td>60.0</td>\n",
       "    </tr>\n",
       "    <tr>\n",
       "      <th>167983</th>\n",
       "      <td>wikitalks109264</td>\n",
       "      <td>roku</td>\n",
       "      <td>60.0</td>\n",
       "      <td>90.0</td>\n",
       "    </tr>\n",
       "    <tr>\n",
       "      <th>167984</th>\n",
       "      <td>wikitalks109264</td>\n",
       "      <td>poprzedzającym.</td>\n",
       "      <td>90.0</td>\n",
       "      <td>0.0</td>\n",
       "    </tr>\n",
       "  </tbody>\n",
       "</table>\n",
       "<p>167985 rows × 4 columns</p>\n",
       "</div>"
      ],
      "text/plain": [
       "                  index             word  pause_before  pause_after\n",
       "0        wikinews178430               we         690.0         90.0\n",
       "1        wikinews178430        wrocławiu          90.0        300.0\n",
       "2        wikinews178430            walkę         300.0        210.0\n",
       "3        wikinews178430               ze         210.0         60.0\n",
       "4        wikinews178430      szkodnikiem          60.0         90.0\n",
       "...                 ...              ...           ...          ...\n",
       "167980  wikitalks109264         operacji         120.0        120.0\n",
       "167981  wikitalks109264         łódzkiej         120.0        630.0\n",
       "167982  wikitalks109264                w         630.0         60.0\n",
       "167983  wikitalks109264             roku          60.0         90.0\n",
       "167984  wikitalks109264  poprzedzającym.          90.0          0.0\n",
       "\n",
       "[167985 rows x 4 columns]"
      ]
     },
     "metadata": {},
     "output_type": "display_data"
    }
   ],
   "source": [
    "# Load data\n",
    "data_raw = read_files('./train_with_punctuation', sep=\"\\t\")\n",
    "data_calc=calculate_pauses(data_raw).drop([\"timestamp_start\", \"timestamp_stop\"], axis=1)\n",
    "\n",
    "display(Markdown(\"## Raw data preview\"))\n",
    "display(data_raw)\n",
    "display(Markdown(\"## Calculated data preview\"))\n",
    "display(data_calc)"
   ]
  },
  {
   "cell_type": "markdown",
   "metadata": {},
   "source": [
    "### <span style='font-family:Georgia'> Check for noise-causing symbols"
   ]
  },
  {
   "cell_type": "code",
   "execution_count": 9,
   "metadata": {},
   "outputs": [],
   "source": [
    "target_classes=['.', ',', '?', '!', '-', ':', '...', ' ']"
   ]
  },
  {
   "cell_type": "code",
   "execution_count": 10,
   "metadata": {},
   "outputs": [
    {
     "name": "stdout",
     "output_type": "stream",
     "text": [
      "List of symbols to be dropped: ['²', 'ς', 'け', '%', '·', 'в', 'я', '0', '6', 'л', 'ú', 'у', '六', '7', 'β', 'ő', 'ν', 'г', '大', 'à', '9', 'ű', '\"', 'č', '€', 'š', 'ß', 'í', 'ニ', 'х', 'ø', 'б', '八', 'е', '1', 'ü', 'ê', 'о', 'ū', 'δ', 'イ', 'ж', '尾', '[', 'ό', 'э', 'к', 'ô', ')', 'ž', 'а', 'ι', 'カ', '8', 'ο', 'й', '(', 'т', 'р', '三', 'м', 'ω', 'ö', 'α', 'ç', 'с', 'д', '蛞', 'á', 'н', '3', 'ã', 'ル', 'é', '馬', 'ä', 'ю', '亀', '2', ']', 'и', 'è', '³', '化', ';', 'φ', 'ř', '蝓', 'ρ', \"'\", 'ε', 'з', '5', 'п', '五', 'の', '+', '4']\n"
     ]
    }
   ],
   "source": [
    "# Check for records with non-character symbols excluded from target classes set\n",
    "non_characters=np.unique(data_calc['word'].apply(lambda x: find_nonalpha(x)))\n",
    "symbols_to_drop=list(set(flatten(non_characters))-set(target_classes))\n",
    "print(f\"List of symbols to be dropped: {str(symbols_to_drop)}\")"
   ]
  },
  {
   "cell_type": "code",
   "execution_count": 11,
   "metadata": {},
   "outputs": [
    {
     "data": {
      "text/plain": [
       "array([nan, '.', '\"', ':', '6', ',', '8', '2', '1', '0', '9', '5', '4',\n",
       "       '7', '+', '3', '-', \"'\", '%', '³', '?', ']', '!', ';', 'ö', 'é',\n",
       "       'í', 'ç', 'ê', 'ä', 'š', 'ž', 'č', 'ő', 'ű', 'è', '(', 'ã', 'à',\n",
       "       'ú', 'á', '€', 'ø', 'ô', 'ř', 'ü', 'ß', '[', ')', 'α', 'β', 'δ',\n",
       "       'г', 'о', 'с', 'у', 'д', 'а', 'р', 'т', 'в', 'е', 'н', 'я', 'м',\n",
       "       'и', 'й', 'к', 'п', 'б', 'ю', 'з', 'л', 'х', 'э', '²', '·', 'φ',\n",
       "       'ニ', '尾', 'の', '化', 'け', '三', '大', '亀', '五', 'イ', 'ル', 'カ', '馬',\n",
       "       '六', '蛞', '蝓', '八', 'ū', 'ό', 'ν', 'ε', 'ι', 'ρ', 'ο', 'ς', 'ω',\n",
       "       'ж'], dtype=object)"
      ]
     },
     "execution_count": 11,
     "metadata": {},
     "output_type": "execute_result"
    }
   ],
   "source": [
    "symb_data = data_calc.copy()\n",
    "symb_data['symbol']=symb_data['word'].apply(lambda x: find_nonalpha(x))\n",
    "symb_data=symb_data.explode('symbol').reset_index()\n",
    "\n",
    "symb_data['symbol'].unique()"
   ]
  },
  {
   "cell_type": "code",
   "execution_count": 12,
   "metadata": {},
   "outputs": [
    {
     "data": {
      "text/plain": [
       "array(['.', ':', ',', '-', '?', '!'], dtype=object)"
      ]
     },
     "execution_count": 12,
     "metadata": {},
     "output_type": "execute_result"
    }
   ],
   "source": [
    "symb_data = symb_data.loc[~symb_data[\"symbol\"].isna()]\n",
    "symb_data = symb_data[~symb_data[\"symbol\"].isin(symbols_to_drop)]\n",
    "\n",
    "symb_data[\"symbol\"].unique()"
   ]
  },
  {
   "cell_type": "code",
   "execution_count": 13,
   "metadata": {},
   "outputs": [
    {
     "data": {
      "text/plain": [
       ".    10951\n",
       ",    10163\n",
       "-     3185\n",
       ":      934\n",
       "?      801\n",
       "!      134\n",
       "Name: symbol, dtype: int64"
      ]
     },
     "execution_count": 13,
     "metadata": {},
     "output_type": "execute_result"
    }
   ],
   "source": [
    "# target classes balance check\n",
    "symb_data[\"symbol\"].value_counts()"
   ]
  },
  {
   "cell_type": "code",
   "execution_count": 14,
   "metadata": {},
   "outputs": [],
   "source": [
    "# Some files are missings in the source archives and therefore we have 793 out of 800 files.\n",
    "# All 3 ellipsis symbols are contained in files that are not included and therefore we are missing all training observations for one of the classes."
   ]
  },
  {
   "cell_type": "markdown",
   "metadata": {},
   "source": [
    "### <span style='font-family:Georgia'> Short words inspection"
   ]
  },
  {
   "cell_type": "code",
   "execution_count": 15,
   "metadata": {},
   "outputs": [],
   "source": [
    "words_to_inspect=[]\n",
    "for sw in symb_data[\"word\"].values:\n",
    "    if len(sw)>1 and len(sw)<5 and sw not in words_to_inspect:\n",
    "        words_to_inspect.append(sw)"
   ]
  },
  {
   "cell_type": "code",
   "execution_count": 16,
   "metadata": {},
   "outputs": [
    {
     "name": "stdout",
     "output_type": "stream",
     "text": [
      "['ul.', 'al.', 'ok.', 'vat.', 'o.', 'lat.', 'się,', 'tym,', 'to,', '\".', '2:', '8:', '5:', 'grą,', 'gry.', 'm.', 'in.', \"'80,\", 'fsc,', 'pkp,', 'mtv.', 'tvn.', 'sam,', '\",', 'l.', 'lat,', 'tvn,', 'zła,', 'tzw.', 'on,', 's.', 'a.', 'lng.', 'tam,', 'm³.', '0,', '36,', '77,', '39,', '245,', '1,', 'sił.', 'pzu.', '3,', 'się.', '55,', 'a,', 'gry,', '184,', '101,', '11:', '4:', 'uci.', '6,', 'csc.', 'go.', '12:', 'ks.', '13:', '14:', '5,', '119,', '16:', 'pl,', 'rok.', 'pln,', 'pln.', 'zł.', 'zł,', '23,', 'n.', 'e.', 'tzn.', 'br.', 'św.', 'km.', 'sb.', 'mu,', 'płd.', 'hui.', 'np.', 'onz.', 'ds.', 'usa.', 'sld.', 'tk,', 'ipn.', 'pan,', 'pęk.', 'dyr.', 'tys.', '13,', 'psl.', 'g.', 'ją,', 'nam,', 'r.', 'sld,', 'w:', '26,', 'nie,', 'km,', 'być.', 'ulg,', '610,', '2,', '4,', 'pkt.', 'w.', 'p.', '10,', 'usa,', 'też,', 'vat,', 'art.', 'ust.', 'tk.', 'się:', 'fm,', 'ue.', '66,', 'pis.', '20:', 'pkp.', 'c.', 'ona,', 'im.', '000,', '40,', '722,', '20,', 'jak:', 'wsi.', 'ke,', 'na:', 'tj.', '9:', '00,', 'kot.', 'jej,', 'h,', 'h.', 'bt,', 'cba.', 'bor.', 'abw,', 'upr,', 'lpr.', '18,', 'mln.', 'usd.', 'wiz.', 'że:', 'są:', 'dom,', 'lgp,', 'gp.', 'm,', '121,', 'ś.', 'pis,', 'pis:', 'msz.', 'u.', '3d,', '18:', 'bal,', '51,', '41,', '32,', 'rp.', '9,', '96,', '90,', '8,', 'psl,', 'lid.', 'lis.', 'www.', 'com.', 'pl.', 'pe.', 'etc.', 'po,', 'jop,', 'bąk,', '112,', '15:', '45,', 'rpg.', 'kot,', 'sa.', '1:', 'ja,', 'raz,', '3:', '28,', '30,', '14,', '15,', '24,', '24:', 'ege,', 'grę,', 'l:', '7,', 'min.', 'cnn,', 'tak,', 'jaw,', 'mp3,', 'gb,', 'usb,', 'p4,', 'ptc,', 'era,', '3g.', 'gdy.', 'it.', '7:', 'cf,', 'żył:', 'ii,', 'bp.', 'nt.', 'd.', 'fm.', 'ich,', 'za.', 'dni,', '200!', 'rtv,', 'rtv.', 'zet.', 'rok,', 'u,', 'pań:', 'tvp,', 'xen.', 'tv.', 'po:', 'rp,', 'rtl.', 'coś,', 'abw.', 'b.', 'op.', 'to.', 'v,', '70,', '456,', 'pb.', 'tp.', 'tp,', 'eqt,', 'wbk.', 'tak.', 'nas,', 'nbp,', 'exe,', 'dr.', 'ta,', 'sąd,', '19,', 'mln,', 'ipn,', '256,', 'tym.', 'day,', 'to:', 'net.', 'bav,', 'bav.', 'dol.', 'chę.', 'twa,', 'pół,', 'my!', 'lab,', 'pt.', '0:', 'bąk.', 'cnn.', 'hbo.', '21:', '23:', '22:', 'gen.', 'a:', 'b:', 'c:', 'd:', 'aut.', 'tw.', 'msw,', 't.', 'ix,', '135,', 'pro.', 'it,', '10:', 'dt.', '00:', 'tej,', 'pan.', '01:', 'f.', 'z:', 'k.', 'j.', 'nm.', '248,', 'fg,', 'utc.', 'onz,', 'psi.', 'gut.', 'mgr.', 'zhp,', 'zhp.', 'płn.', 'ap,', 'ap.', 'tip.', 'upu.', 'ila.', 'ai.', '68,', '69,', 'nyt,', 'pas.', 'kum.', 'st.', 'pyc,', 'por.', 'kpr.', 'szt.', 'kpt.', '116,', 'kg,', '97,', 'kg.', 'ibf,', 'csu,', 'fdp.', 'też:', 'ue,', 'mon.', 'nie?', '44,', 'rft,', 'hom.', 'hiv.', 'dym.', 'tle,', 'tła.', 'bbc.', '6:', 'ha.', 'gvu,', 'mm.', 'płb,', 'kan,', 'art!', 'pd.', 'wg.', 'i,', 'je.', '03:', '06:', '52,', 'ton.', '50,', 'ine,', '300,', '720,', 'ii.', 'się!', 'kw.', 'na,', 'ted.', 'itp.', 'cc,', 'fr:', 'oka.', 'dub.', 'org.', '100,', 'com,', 'itd.', '\"!', 'las.', 'osm.', 'puk,', 'być:', 'wim.', 'ngo.', 'mit.', 'bnf.', 'dla,', 'cow.', 'hat.', 'ng.', 'dnf,', 'yum.', 'kod,', 'inż.', 'pti.', 'hab.', 're.', 'wa,', 'pet,', 'gej,', 'żyd,', 'max.', 'i.', 'moc.', 'mac.', 'x.', 'gpl.', 'pdf,', 'mi.', 'u:', 'za,', 'sun,', 'hp,', 'ibm,', 'dec,', 'sco,', 'bsd.', 'wnp.', 'c,', 'dni.', 'ke.', 'pd,', 'up.', 'owi,', 'ci,', 'po.', 'nią.', 'że,', 'cba,', 'noc,', 'lpr,', 'pis!', 'mam.', 'xvi.', 'nc,', 'tak?', 'ma,', 'cc.', 'pw.', 'wta.', 'eca,', 'tgv.', 'mr.', 'hur,', 'co.', 'ltd.', '\":', 'ram:', '17,', 'ów,', 'kom.', 'dsl,', 'ag,', 'avm,', 'avm.', '19:', '405,', 'bój.', 'g8,', 'ląd.', '17:', 'nóg,', 'rąk,', 'cng,', 'lng,', 'ain.', 'jan.', '104,', 'e,', 'my,', 'sam.', '82,', '88,', '91,', '106,', '11,', '123,', '126,', '150,', 'csc,', 'h0,', 'xvi,', 'bok.', 'cel:', 'cóż,', 'prl.', '253,', 'hua,', '25,', '290,', '278,', 'ich.', 'bas,', 'już,', 'top,', 'him,', 'aol,', 'iac,', 'red.', 'to!', '54,', '118,', '200,', '188,', '179,', 'pr.', 'dot.', 'ws.', 'te,', 'pap,', 'syn.', '34,', '12,', '37,', '35,', 'wp.', '08:', 'hm.', 'dna.', 'kgb.', 'ale.', 'bmw:', 'pkw,', 'grę.', 'mną,', 'nim.', 'wie,', 'kik.', 'up,', '86,', 'ma.', 'lis,', 'gay,', 'mł.', 'dpś,', 'lś.', '26:', '25:', 'min,', 'soo,', 'yun,', 'han,', 'il.', 'war,', 'war.', 'drk,', 'bhp.', '04:', 'iss.', 'psy,', 'łeb,', 'bo.', 'żył,', 'gks,', '50:', 'hat,', 'ab,', 'eft.', 'bar,', 'fly.', 'nie.', 'lee,', 'cd.', 'dvd,', 'ray.', 'ann.', 'mgm.', 'ubs,', '796,', '113,', '93,', 'żak,', 'lot.', 'sir,', 'kbe.', '46,', 'ryb.', 'jaj,', 'sb,', 'wie.', 'rz.', 'sąd.', 'rpp,', 'bój,', '58,', 'gd.', 'wsw.', 'mi,', 'rp:', 'da.', 'abp.', 'il,', '650,', '147,', 'znp.', 'pau,', 'ntw,', 'noc.', 'dwa.', 'zia.', 'ali.', 'urn,', 'luz,', 'nba.', '43,', 'wta,', 'mjr.', 'afp,', 'czy.', 'raz.', 'być,', 'net,', 'esa,', 'esa.', 'gmt,', 't,', 'hou,', 'who,', '02:', '04,', 'hłe.', '02,', 'ek,', 'bad:', 'bad.', 'tyg.', 'ok?', 'zal!', 'cię.', 'en.', 'ß.', 'ss.', 'wz.', '31,', '50?', 'inf.', 'hs.', '\"?', '57,', 'pov:', '305,', 'ww.', 'mch,', 'ryt.', 'pwn.', 'php?', 'gra,', 'jak?', 'x,', 'was!', 'jap.', 'ang.', 'są.', 'wp:', 'oj,', 'ha,', \"'z'?\", 'c4?', '168,', 'eś.', 'etc,', 'dź,', '16,', 'wop.', 'wop?', 'dn.', 'wop,', 'to?', 'ek?', 'z.', '195:', 'zob.', 'α.', 'ras?', 'kl.', 'lat?', 'ufc,', 'k1,', 'mma.', 'jw.', 'ale:', '967,', 'zm.', 'ip,', 'xt.', 'śp.', 'go,', 'iag.', '10?', 'sdk.', '07:', 'sie,', '22,', 'osi.', '56,', '24h,', '25h!', 'dos:', '95:', 'hmm.', 'ppc,', 'woj.', 'być?', 'tym:', 'ffm,', 'tu.', 'q?', 'odp.', 'ar?', 'er?', 'el?', 'w?', 'el,', 'w,', 'er,', 'co?', 'nb,', 'mm,', 'wś,', '09:', 'wsi?', 'ew.', 'ty,', 'kto?', '27,', 'psp.', 'e?', 'ne.', 'spd.', 'pps,', 'kul,', 'hm?', 'tu,', 'v.', 'б.', 'ю.', 'а.', 'и.', 'с.', '):', 'dat.', 'sie.', '06,', 'byl.', '49,', 'wlk.', 'nią?', 'mru?', 'hm,', 'pop.', 'itp?', 'bł.', 'żył.', '08,', 'de:', 'ps.', 'nes.', 'dwa?', '03,', 'jak,', 'łoł,', 'iti.', 'tak:', 'ja?', 'iść.', 'mów!', 'hej,', 'syf?', '29,', '05,', 'nr,', 'mną?', 'co,', 'pov.', 'ha?', '07,', 'r?', 'r3,', 'm3?', 'spv.', 'brt?', 'brt,', 'nrt.', 'he:', 'org,', 'ad.', '42,', 'był.', 'po?', 'smd.', 'mas,', 'ru.', 'ros.', 'xv,', 'ten?', 'ją.', 'jak!', 'są?', 'raw,', 'ecw.', 'hhh,', 'ja.', 'aha.', 'o,', 'eot.', 'gsm,', 'gsm.', '1cm.', 'cos?', 'hmm,', 'one.', 'baz,', 'iv,', 'iv.', 'geb.', 'ckm?', 'jej.', '5gb.']\n"
     ]
    }
   ],
   "source": [
    "print(words_to_inspect)"
   ]
  },
  {
   "cell_type": "code",
   "execution_count": 17,
   "metadata": {},
   "outputs": [],
   "source": [
    "# Conclusion: There seems to be a need to create a predefined abbreviations dictionary for baseline model"
   ]
  },
  {
   "cell_type": "markdown",
   "metadata": {},
   "source": [
    "### <span style='font-family:Georgia'> Pauses distributions plots"
   ]
  },
  {
   "cell_type": "code",
   "execution_count": 18,
   "metadata": {},
   "outputs": [],
   "source": [
    "pd.set_option('mode.chained_assignment', None)"
   ]
  },
  {
   "cell_type": "code",
   "execution_count": 19,
   "metadata": {},
   "outputs": [],
   "source": [
    "dist_plot_data=symb_data[[\"index\", \"symbol\", \"pause_before\", \"pause_after\"]]\n",
    "# scalling to seconds\n",
    "dist_plot_data[\"pause_before\"] = dist_plot_data[\"pause_before\"].div(1000)\n",
    "dist_plot_data[\"pause_after\"] = dist_plot_data[\"pause_after\"].div(1000)"
   ]
  },
  {
   "cell_type": "markdown",
   "metadata": {},
   "source": [
    "### <span style='font-family:Georgia'> Pauses before"
   ]
  },
  {
   "cell_type": "code",
   "execution_count": 20,
   "metadata": {},
   "outputs": [
    {
     "data": {
      "image/png": "[encoded data removed]",
      "text/plain": [
       "<Figure size 1008x595.44 with 1 Axes>"
      ]
     },
     "metadata": {},
     "output_type": "display_data"
    }
   ],
   "source": [
    "dist_plot_data.groupby('symbol')['pause_before'].apply(lambda x: sns.kdeplot(x, label = x.name))\n",
    "\n",
    "plt.xlabel('pause_before')\n",
    "plt.ylabel('kde')\n",
    "plt.legend(borderpad=2)\n",
    "plt.show()"
   ]
  },
  {
   "cell_type": "markdown",
   "metadata": {},
   "source": [
    "### <span style='font-family:Georgia'> Pauses after"
   ]
  },
  {
   "cell_type": "code",
   "execution_count": 21,
   "metadata": {},
   "outputs": [
    {
     "data": {
      "image/png": "[encoded data removed]",
      "text/plain": [
       "<Figure size 1008x595.44 with 1 Axes>"
      ]
     },
     "metadata": {},
     "output_type": "display_data"
    }
   ],
   "source": [
    "dist_plot_data.groupby('symbol')['pause_after'].apply(lambda x: sns.kdeplot(x, label = x.name))\n",
    "\n",
    "plt.xlabel('pause_after')\n",
    "plt.ylabel('kde')\n",
    "plt.legend(borderpad=2)\n",
    "plt.show()"
   ]
  },
  {
   "cell_type": "markdown",
   "metadata": {},
   "source": [
    "### <span style='font-family:Georgia'> Outliers detection"
   ]
  },
  {
   "cell_type": "code",
   "execution_count": 22,
   "metadata": {},
   "outputs": [
    {
     "data": {
      "text/html": [
       "<div>\n",
       "<style scoped>\n",
       "    .dataframe tbody tr th:only-of-type {\n",
       "        vertical-align: middle;\n",
       "    }\n",
       "\n",
       "    .dataframe tbody tr th {\n",
       "        vertical-align: top;\n",
       "    }\n",
       "\n",
       "    .dataframe thead th {\n",
       "        text-align: right;\n",
       "    }\n",
       "</style>\n",
       "<table border=\"1\" class=\"dataframe\">\n",
       "  <thead>\n",
       "    <tr style=\"text-align: right;\">\n",
       "      <th></th>\n",
       "      <th>index</th>\n",
       "      <th>pause_before</th>\n",
       "      <th>pause_after</th>\n",
       "    </tr>\n",
       "  </thead>\n",
       "  <tbody>\n",
       "    <tr>\n",
       "      <th>8710</th>\n",
       "      <td>wikinews181131</td>\n",
       "      <td>7050.0</td>\n",
       "      <td>4200.0</td>\n",
       "    </tr>\n",
       "    <tr>\n",
       "      <th>31668</th>\n",
       "      <td>wikinews185521</td>\n",
       "      <td>4620.0</td>\n",
       "      <td>60.0</td>\n",
       "    </tr>\n",
       "    <tr>\n",
       "      <th>37548</th>\n",
       "      <td>wikinews186427</td>\n",
       "      <td>4800.0</td>\n",
       "      <td>120.0</td>\n",
       "    </tr>\n",
       "    <tr>\n",
       "      <th>50073</th>\n",
       "      <td>wikinews188651</td>\n",
       "      <td>6630.0</td>\n",
       "      <td>90.0</td>\n",
       "    </tr>\n",
       "    <tr>\n",
       "      <th>58975</th>\n",
       "      <td>wikinews190088</td>\n",
       "      <td>4650.0</td>\n",
       "      <td>90.0</td>\n",
       "    </tr>\n",
       "    <tr>\n",
       "      <th>60957</th>\n",
       "      <td>wikinews190332</td>\n",
       "      <td>18180.0</td>\n",
       "      <td>30.0</td>\n",
       "    </tr>\n",
       "    <tr>\n",
       "      <th>74975</th>\n",
       "      <td>wikinews205726</td>\n",
       "      <td>5220.0</td>\n",
       "      <td>60.0</td>\n",
       "    </tr>\n",
       "    <tr>\n",
       "      <th>97491</th>\n",
       "      <td>wikinews228095</td>\n",
       "      <td>39540.0</td>\n",
       "      <td>4740.0</td>\n",
       "    </tr>\n",
       "    <tr>\n",
       "      <th>99365</th>\n",
       "      <td>wikinews228304</td>\n",
       "      <td>4950.0</td>\n",
       "      <td>90.0</td>\n",
       "    </tr>\n",
       "    <tr>\n",
       "      <th>142195</th>\n",
       "      <td>wikitalks001528</td>\n",
       "      <td>7020.0</td>\n",
       "      <td>510.0</td>\n",
       "    </tr>\n",
       "    <tr>\n",
       "      <th>153420</th>\n",
       "      <td>wikitalks002870</td>\n",
       "      <td>5310.0</td>\n",
       "      <td>9660.0</td>\n",
       "    </tr>\n",
       "  </tbody>\n",
       "</table>\n",
       "</div>"
      ],
      "text/plain": [
       "                  index  pause_before  pause_after\n",
       "8710     wikinews181131        7050.0       4200.0\n",
       "31668    wikinews185521        4620.0         60.0\n",
       "37548    wikinews186427        4800.0        120.0\n",
       "50073    wikinews188651        6630.0         90.0\n",
       "58975    wikinews190088        4650.0         90.0\n",
       "60957    wikinews190332       18180.0         30.0\n",
       "74975    wikinews205726        5220.0         60.0\n",
       "97491    wikinews228095       39540.0       4740.0\n",
       "99365    wikinews228304        4950.0         90.0\n",
       "142195  wikitalks001528        7020.0        510.0\n",
       "153420  wikitalks002870        5310.0       9660.0"
      ]
     },
     "execution_count": 22,
     "metadata": {},
     "output_type": "execute_result"
    }
   ],
   "source": [
    "pause_before_outliers=data_calc.loc[data_calc['pause_before']>4500][[\"index\", \"pause_before\", \"pause_after\"]].drop_duplicates(subset=[\"index\"])\n",
    "pause_before_outliers"
   ]
  },
  {
   "cell_type": "code",
   "execution_count": 23,
   "metadata": {},
   "outputs": [
    {
     "data": {
      "text/html": [
       "<div>\n",
       "<style scoped>\n",
       "    .dataframe tbody tr th:only-of-type {\n",
       "        vertical-align: middle;\n",
       "    }\n",
       "\n",
       "    .dataframe tbody tr th {\n",
       "        vertical-align: top;\n",
       "    }\n",
       "\n",
       "    .dataframe thead th {\n",
       "        text-align: right;\n",
       "    }\n",
       "</style>\n",
       "<table border=\"1\" class=\"dataframe\">\n",
       "  <thead>\n",
       "    <tr style=\"text-align: right;\">\n",
       "      <th></th>\n",
       "      <th>index</th>\n",
       "      <th>pause_before</th>\n",
       "      <th>pause_after</th>\n",
       "    </tr>\n",
       "  </thead>\n",
       "  <tbody>\n",
       "    <tr>\n",
       "      <th>8709</th>\n",
       "      <td>wikinews181131</td>\n",
       "      <td>120.0</td>\n",
       "      <td>7050.0</td>\n",
       "    </tr>\n",
       "    <tr>\n",
       "      <th>74974</th>\n",
       "      <td>wikinews205726</td>\n",
       "      <td>60.0</td>\n",
       "      <td>5220.0</td>\n",
       "    </tr>\n",
       "    <tr>\n",
       "      <th>97490</th>\n",
       "      <td>wikinews228095</td>\n",
       "      <td>600.0</td>\n",
       "      <td>39540.0</td>\n",
       "    </tr>\n",
       "    <tr>\n",
       "      <th>142194</th>\n",
       "      <td>wikitalks001528</td>\n",
       "      <td>450.0</td>\n",
       "      <td>7020.0</td>\n",
       "    </tr>\n",
       "    <tr>\n",
       "      <th>153419</th>\n",
       "      <td>wikitalks002870</td>\n",
       "      <td>180.0</td>\n",
       "      <td>5310.0</td>\n",
       "    </tr>\n",
       "  </tbody>\n",
       "</table>\n",
       "</div>"
      ],
      "text/plain": [
       "                  index  pause_before  pause_after\n",
       "8709     wikinews181131         120.0       7050.0\n",
       "74974    wikinews205726          60.0       5220.0\n",
       "97490    wikinews228095         600.0      39540.0\n",
       "142194  wikitalks001528         450.0       7020.0\n",
       "153419  wikitalks002870         180.0       5310.0"
      ]
     },
     "execution_count": 23,
     "metadata": {},
     "output_type": "execute_result"
    }
   ],
   "source": [
    "pause_after_outliers=data_calc.loc[data_calc['pause_after']>4500][[\"index\", \"pause_before\", \"pause_after\"]].drop_duplicates(subset=[\"index\"])\n",
    "pause_after_outliers"
   ]
  },
  {
   "cell_type": "code",
   "execution_count": 24,
   "metadata": {
    "scrolled": true
   },
   "outputs": [
    {
     "data": {
      "text/html": [
       "<div>\n",
       "<style scoped>\n",
       "    .dataframe tbody tr th:only-of-type {\n",
       "        vertical-align: middle;\n",
       "    }\n",
       "\n",
       "    .dataframe tbody tr th {\n",
       "        vertical-align: top;\n",
       "    }\n",
       "\n",
       "    .dataframe thead th {\n",
       "        text-align: right;\n",
       "    }\n",
       "</style>\n",
       "<table border=\"1\" class=\"dataframe\">\n",
       "  <thead>\n",
       "    <tr style=\"text-align: right;\">\n",
       "      <th></th>\n",
       "      <th>index</th>\n",
       "      <th>pause_before</th>\n",
       "      <th>pause_after</th>\n",
       "    </tr>\n",
       "  </thead>\n",
       "  <tbody>\n",
       "    <tr>\n",
       "      <th>0</th>\n",
       "      <td>wikinews181131</td>\n",
       "      <td>7050.0</td>\n",
       "      <td>4200.0</td>\n",
       "    </tr>\n",
       "    <tr>\n",
       "      <th>1</th>\n",
       "      <td>wikinews205726</td>\n",
       "      <td>5220.0</td>\n",
       "      <td>60.0</td>\n",
       "    </tr>\n",
       "    <tr>\n",
       "      <th>2</th>\n",
       "      <td>wikinews228095</td>\n",
       "      <td>39540.0</td>\n",
       "      <td>4740.0</td>\n",
       "    </tr>\n",
       "    <tr>\n",
       "      <th>3</th>\n",
       "      <td>wikitalks001528</td>\n",
       "      <td>7020.0</td>\n",
       "      <td>510.0</td>\n",
       "    </tr>\n",
       "    <tr>\n",
       "      <th>4</th>\n",
       "      <td>wikitalks002870</td>\n",
       "      <td>5310.0</td>\n",
       "      <td>9660.0</td>\n",
       "    </tr>\n",
       "  </tbody>\n",
       "</table>\n",
       "</div>"
      ],
      "text/plain": [
       "             index  pause_before  pause_after\n",
       "0   wikinews181131        7050.0       4200.0\n",
       "1   wikinews205726        5220.0         60.0\n",
       "2   wikinews228095       39540.0       4740.0\n",
       "3  wikitalks001528        7020.0        510.0\n",
       "4  wikitalks002870        5310.0       9660.0"
      ]
     },
     "execution_count": 24,
     "metadata": {},
     "output_type": "execute_result"
    }
   ],
   "source": [
    "# outliers intersection\n",
    "pause_before_outliers.merge(pause_after_outliers[[\"index\"]], how=\"inner\", left_on=\"index\", right_on=\"index\")"
   ]
  },
  {
   "cell_type": "markdown",
   "metadata": {},
   "source": [
    "### <span style='font-family:Georgia'> Pauses distributions plots after all outliers removal"
   ]
  },
  {
   "cell_type": "code",
   "execution_count": 25,
   "metadata": {},
   "outputs": [],
   "source": [
    "dist_plot_data2 = dist_plot_data[~dist_plot_data[\"index\"].isin(list(pause_before_outliers[\"index\"])+list(pause_after_outliers[\"index\"]))]"
   ]
  },
  {
   "cell_type": "markdown",
   "metadata": {},
   "source": [
    "### <span style='font-family:Georgia'> Pauses before"
   ]
  },
  {
   "cell_type": "code",
   "execution_count": 30,
   "metadata": {},
   "outputs": [
    {
     "data": {
      "image/png": "[encoded data removed]",
      "text/plain": [
       "<Figure size 1008x595.44 with 1 Axes>"
      ]
     },
     "metadata": {},
     "output_type": "display_data"
    }
   ],
   "source": [
    "dist_plot_data2.groupby('symbol')['pause_before'].apply(lambda x: sns.kdeplot(x, label = x.name))\n",
    "\n",
    "plt.xlabel('pause_before [s]', size=20)\n",
    "plt.ylabel('kde', size=20)\n",
    "plt.yticks(fontsize=20)\n",
    "plt.xticks(fontsize=20)\n",
    "plt.legend(borderpad=2, fontsize=20)\n",
    "plt.show()"
   ]
  },
  {
   "cell_type": "markdown",
   "metadata": {},
   "source": [
    "### <span style='font-family:Georgia'> Pauses after"
   ]
  },
  {
   "cell_type": "code",
   "execution_count": 32,
   "metadata": {},
   "outputs": [
    {
     "data": {
      "image/png": "[encoded data removed]",
      "text/plain": [
       "<Figure size 1008x595.44 with 1 Axes>"
      ]
     },
     "metadata": {},
     "output_type": "display_data"
    }
   ],
   "source": [
    "dist_plot_data2.groupby('symbol')['pause_after'].apply(lambda x: sns.kdeplot(x, label = x.name))\n",
    "\n",
    "plt.xlabel('pause_after [s]', size=20)\n",
    "plt.ylabel('kde', size=20)\n",
    "plt.yticks(fontsize=20)\n",
    "plt.xticks(fontsize=20)\n",
    "plt.legend(borderpad=2, fontsize=20)\n",
    "plt.show()"
   ]
  },
  {
   "cell_type": "code",
   "execution_count": 28,
   "metadata": {},
   "outputs": [],
   "source": [
    "# The distributions of pauses after punctuations are more varied than pauses before signs"
   ]
  }
 ],
 "metadata": {
  "interpreter": {
   "hash": "b382fe6b29b6b4e73353773a1641708601657c277ce04be60c592f7c94f0f916"
  },
  "kernelspec": {
   "display_name": "Python 3 (ipykernel)",
   "language": "python",
   "name": "python3"
  },
  "language_info": {
   "codemirror_mode": {
    "name": "ipython",
    "version": 3
   },
   "file_extension": ".py",
   "mimetype": "text/x-python",
   "name": "python",
   "nbconvert_exporter": "python",
   "pygments_lexer": "ipython3",
   "version": "3.9.7"
  }
 },
 "nbformat": 4,
 "nbformat_minor": 2
}
